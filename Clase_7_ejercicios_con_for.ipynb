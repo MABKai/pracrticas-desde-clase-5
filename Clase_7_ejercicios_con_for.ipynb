{
  "nbformat": 4,
  "nbformat_minor": 0,
  "metadata": {
    "colab": {
      "provenance": []
    },
    "kernelspec": {
      "name": "python3",
      "display_name": "Python 3"
    },
    "language_info": {
      "name": "python"
    }
  },
  "cells": [
    {
      "cell_type": "code",
      "source": [
        "#Ejercicio Clase 7 1era version con sort\n",
        "\n",
        "clientes=[]\n",
        "\n",
        "#Ingreso de datos\n",
        "print(\"Ingrese su nombre. Para finalizar, ingrese Fin\")\n",
        "#uso un bucle para validar los nombres que se ingresaran\n",
        "while True:\n",
        "      nombre=input(\"Ingrese su nombre: \")\n",
        "      if nombre.lower().capitalize()== \"Fin\": #instruccion para terminar de ingresar datos\n",
        "          break\n",
        "      if len(nombre) <= 0: #valido que nombre bno este vacio\n",
        "              nombre=input(\"Por favor ingrese su nombre: \")\n",
        "      clientes.append(nombre.capitalize()) #si no esta vacio, se agrega a la lista poniendolo en mayuscula\n",
        "#ordeno alfabeticamente con bucle for\n",
        "for i in range(len(clientes)):\n",
        "    for j in range(i+1, len(clientes)):\n",
        "        if clientes[i] > clientes[j]:\n",
        "            clientes[i], clientes[j] = clientes[j], clientes[i]\n",
        "print(clientes) #imprimo la lista ordenada alfabeticamente\n"
      ],
      "metadata": {
        "colab": {
          "base_uri": "https://localhost:8080/"
        },
        "id": "-JQIbt4bOpac",
        "outputId": "8e097859-1d3c-42f0-be39-75e5c31e63b2"
      },
      "execution_count": 1,
      "outputs": [
        {
          "output_type": "stream",
          "name": "stdout",
          "text": [
            "Ingrese su nombre. Para finalizar, ingrese Fin\n",
            "Ingrese su nombre: laura\n",
            "Ingrese su nombre: narta\n",
            "Ingrese su nombre: teresa\n",
            "Ingrese su nombre: fin\n",
            "['Laura', 'Narta', 'Teresa']\n"
          ]
        }
      ]
    },
    {
      "cell_type": "code",
      "source": [
        "#Ejercicio Clase 7 2da version con sort\n",
        "# aqui ademas de ingresar el nombre\n",
        "#validar que no este vacio\n",
        "#Colocar en mayusculas los nombres\n",
        "#asentar que con fin se de por terminado el ingreso\n",
        "#VALIDO QUE SEAN CARATERES ALFABETICOS LOS QUE ESTEN INGRESADOS\n",
        "# SE INGRESAN OTROS CARACTERES SEÑALA ERROR Y PIDE QUE SE INGRESE NUEVAMENTE\n",
        "clientes=[]\n",
        "\n",
        "#Ingreso de datos\n",
        "print(\"Ingrese su nombre. Para finalizar, ingrese Fin \")\n",
        "\n",
        "while True:\n",
        "      nombre=input(\"Ingrese su nombre: \")\n",
        "      if nombre.lower().capitalize()== \"Fin\":\n",
        "          break\n",
        "      elif len(nombre) <= 0 or not nombre.isalpha():\n",
        "              nombre=input(\"Error.Por favor ingrese su nombre: \")\n",
        "      else:\n",
        "        clientes.append(nombre.capitalize())\n",
        "for i in range(len(clientes)):\n",
        "    for j in range(i+1, len(clientes)):\n",
        "        if clientes[i] > clientes[j]:\n",
        "            clientes[i], clientes[j] = clientes[j], clientes[i]\n",
        "print(clientes)\n"
      ],
      "metadata": {
        "colab": {
          "base_uri": "https://localhost:8080/"
        },
        "collapsed": true,
        "id": "AE4QrGGazMzZ",
        "outputId": "c83d640a-383d-463f-b610-2b5f5a15909f"
      },
      "execution_count": 2,
      "outputs": [
        {
          "output_type": "stream",
          "name": "stdout",
          "text": [
            "Ingrese su nombre. Para finalizar, ingrese Fin \n",
            "Ingrese su nombre: erica\n",
            "Ingrese su nombre: josefa\n",
            "Ingrese su nombre: lucas\n",
            "Ingrese su nombre: fin\n",
            "['Erica', 'Josefa', 'Lucas']\n"
          ]
        }
      ]
    },
    {
      "cell_type": "code",
      "source": [
        "#Ejercicio Clase 7 3era version con sort\n",
        "# aqui ademas de ingresar el nombre\n",
        "#validar que no este vacio\n",
        "#Colocar en mayusculas los nombres\n",
        "#asentar que con fin se de por terminado el ingreso\n",
        "#VALIDAR S CARATERES ALFABETICOS LOS INGRESADOS\n",
        "# SDE LO CONTRARIO SEÑALA ERROR Y PIDE QUE SE INGRESE NUEVAMENTE\n",
        "#ORDENAR ALFABETICAMENTE\n",
        "#IMPRIMIR LISTA ORDENADA\n",
        "#INGRESAREMOS APELLIDO Y NOMBRE\n",
        "#SOLICITAREMOS QUE SE INGRESEN AMBOS DATOS\n",
        "#ORDENAREMOS LA LISTA POR APELLIDO\n",
        "clientes=[]\n",
        "i=1\n",
        "division_nombre=0\n",
        "#Ingreso de datos\n",
        "print(\"Ingrese su nombre y apellido. Para finalizar, ingrese Fin \")\n",
        "\n",
        "while True:\n",
        "      nombre_apellido=input(\"Ingrese su nombre y apellido: \")\n",
        "      nombre_apellido=nombre_apellido.strip().lower()\n",
        "      division_nombre=nombre_apellido.split()\n",
        "      if nombre_apellido.lower().capitalize()== \"Fin\":\n",
        "          break\n",
        "      elif len(nombre_apellido) <= 0 or len(division_nombre)<1 or len(division_nombre)<2 and len(division_nombre)>0:\n",
        "              nombre_apellido=input(\"Error.Por favor ingrese su nombre y apellido: \")\n",
        "      else:\n",
        "       nombre=division_nombre[0]\n",
        "       apellido=division_nombre[1]\n",
        "       if not nombre.isalpha():\n",
        "         nombre=input(\"ERROR. Contiene Caracteres No Alfabeticos. Por favor, ingrese su nombre: \")\n",
        "       else:\n",
        "         if not apellido.isalpha():\n",
        "           apellido=input(\"ERROR. Contiene Caracteres No Alfabeticos. Por favor, ingrese su apellido: \")\n",
        "         else:\n",
        "          #clientes.append(nombre_apellido.title()) #guardo en la lista el nombre y apellido en mayiuscula.\n",
        "          apellido_nombre=apellido.capitalize(), nombre.capitalize()# invierto el orden del nombre y apellido y lo pongo en mayuscula\n",
        "          clientes.append(apellido_nombre)\n",
        "for i in range(len(clientes)):\n",
        "    for j in range(i+1, len(clientes)):\n",
        "        if clientes[i] > clientes[j]:\n",
        "            clientes[i], clientes[j] = clientes[j], clientes[i]\n",
        "print(clientes)\n"
      ],
      "metadata": {
        "colab": {
          "base_uri": "https://localhost:8080/",
          "height": 226
        },
        "collapsed": true,
        "id": "RKBDd5dLy0SS",
        "outputId": "67de2a11-5db4-428d-f0b1-57915cd73085"
      },
      "execution_count": null,
      "outputs": [
        {
          "output_type": "stream",
          "name": "stdout",
          "text": [
            "Ingrese su nombre y apellido. Para finalizar, ingrese Fin \n",
            "Ingrese su nombre y apellido: rere tttt\n",
            "Ingrese su nombre y apellido: jajajjaj bbbb\n",
            "Ingrese su nombre y apellido: fin\n",
            "[('Bbbb', 'Jajajjaj'), ('Tttt', 'Rere')]\n"
          ]
        },
        {
          "output_type": "execute_result",
          "data": {
            "text/plain": [
              "'\\nfor cliente in clientes:\\n  cliente=cliente.strip().lower()\\n  division_nombre=cliente.split() \\n  if len(division_nombre)<1: \\n    print(f\"Cliente {i}: NO VALIDO\")\\n    clientes_nulos=clientes_nulos+1\\n  else:\\n    if len(division_nombre)<2 and len(division_nombre)>0: #or not division_nombre[0] or not division_nombre[1]:\\n      print(f\"Clientes {i}: {cliente.capitalize() } INCOMPLETO\")\\n      clientes_incompletos.append(cliente)\\n    else:  \\n      nombre=division_nombre[0]\\n      apellido=division_nombre[1]  \\n      if not nombre.isalpha():\\n         print(f\"Cliente {i}: {cliente} ERROR Nombre {nombre} Contiene Caracteres No Alfabeticos\") \\n         clientes_erroresAlpha.append(cliente) \\n      else:\\n         if not apellido.isalpha():\\n          print(f\"Cliente {i}: {cliente} ERROR Apellido {apellido} Contiene Caracteres No Alfabeticos\") \\n          clientes_erroresAlpha.append(cliente)  \\n         else:\\n    \\n           print(f\"Cliente {i}: {cliente.title()}\")\\n           clientes_validos.append(cliente)\\n  i=i+1\\nclientes_validos=[]\\nclientes_nulos=0\\nclientes_incompletos=[]\\nclientes_erroresAlpha=[]\\n\\n\\n\\nprint(\"Clientes Correctamente ingresadps\", clientes_validos)\\nprint (\"Clientes Incorrectamente ingresados o Nulos:\", clientes_nulos)\\nprint (\"Clientes con Datos Incompletos\", clientes_incompletos)\\nprint(\"Clientes con Errores Alfabeticos\", clientes_erroresAlpha)\\n'"
            ],
            "application/vnd.google.colaboratory.intrinsic+json": {
              "type": "string"
            }
          },
          "metadata": {},
          "execution_count": 20
        }
      ]
    }
  ]
}