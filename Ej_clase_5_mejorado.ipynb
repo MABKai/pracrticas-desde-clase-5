{
  "nbformat": 4,
  "nbformat_minor": 0,
  "metadata": {
    "colab": {
      "provenance": []
    },
    "kernelspec": {
      "name": "python3",
      "display_name": "Python 3"
    },
    "language_info": {
      "name": "python"
    }
  },
  "cells": [
    {
      "cell_type": "code",
      "execution_count": 6,
      "metadata": {
        "colab": {
          "base_uri": "https://localhost:8080/"
        },
        "id": "3kXpLo2rihW1",
        "outputId": "b56726db-b106-4bff-9f94-3d3ebbafbbd3"
      },
      "outputs": [
        {
          "output_type": "stream",
          "name": "stdout",
          "text": [
            "Hola, te solicitaré tus datos, empezamos \n",
            "Introduce tu nombre sas\n",
            "Ahora introduce tu apellido asa\n",
            "Cual es tu edad? s\n",
            "ERROR. No ha ingresado una edad valida\n",
            "Cual es tu edad? 3\n",
            "Y finalmente, tu correo electronico da\n",
            "ERROR.No ha ingresado un e-mail valido\n",
            "Gracias!\n",
            "Ingresa el tipo de monenda $ (Peso) o U$S (Dólar)$\n",
            "Muchas Gracias. Continuamos\n",
            "Ingrese el monto del mes 3\n",
            "Ingrese el monto del mes 3\n",
            "Ingrese el monto del mes 3\n",
            "Ingrese el monto del mes 3\n",
            "Ingrese el monto del mes 3\n",
            "Ingrese el monto del mes 3\n",
            "Datos Introducidos\n",
            " Nombre:\tSas\t Apellido:\t Asa)\n",
            " Edad:\t3\n",
            " Rango Etario:\tNiño/a\n",
            " E-Mail:\tda\n",
            " Ingreso Total Semestral:\t $18.0.-\n"
          ]
        }
      ],
      "source": [
        "#Mismo ejercio ingresando el tipo de moneda y validandolo\n",
        "#Registros financieros semestral\n",
        "#solicito su nobre apellido y valido con le) que haya caracteres ingrsados\n",
        "nombre=input(\"Hola, te solicitaré tus datos, empezamos \\nIntroduce tu nombre \")\n",
        "if len(nombre)==0:\n",
        "  print(\"ERROR. No ha ingresado su nombre.\")\n",
        "apellido=input(\"Ahora introduce tu apellido \")\n",
        "if len(apellido)==0:\n",
        "  print(\"ERROR. No ha ingrsaso su apellido\")\n",
        "#Validacion y clasificsscion de la edad\n",
        "#con while True:\n",
        "while True:\n",
        "  #Try:\n",
        "  edad=input(\"Cual es tu edad? \")\n",
        "#valido que la edad sea un numero\n",
        "  if edad.isdigit():\n",
        "      edad=int(edad)\n",
        "      if (edad )<=0: #compruebo una edad valida\n",
        "        edad=input(\"ERROR. No ha ingresado una edad valida.\")\n",
        "      elif (edad) > 18:\n",
        "        rango_etario= \"Adulto\"\n",
        "      elif (edad)<15:\n",
        "        rango_etario= \"Niño/a\"\n",
        "      elif (edad)>15 and (edad) <18:\n",
        "        rango_etario= \"Adolescente\"\n",
        "      break\n",
        "#except ValueError:\n",
        "  else:\n",
        "      print(\"ERROR. No ha ingresado una edad valida\")\n",
        "\n",
        "#Validacion de Email\n",
        "email=input(\"Y finalmente, tu correo electronico \")\n",
        "#valido que se haya ingresado caracteres en  y que sea un email valido\n",
        "if len(email)==0 or email.find(\"@\")==\"\" or email.find(\".com\"):\n",
        "   print(\"ERROR.No ha ingresado un e-mail valido\")\n",
        "\n",
        "print(\"Gracias!\", end='\\n')\n",
        "#Ahora comenzamos la tarea financiera}\n",
        "#Eleccion de moneda\n",
        "#validacion de la moneda\n",
        "moneda=input(\"Ingresa el tipo de monenda $ (Peso) o U$S (Dólar)\")\n",
        "\"\"\"\n",
        "if \"$\"   in moneda or \"U$S\" in moneda.upper():\n",
        "  print(\"Gracias por tu eleccion\")\n",
        "else:\n",
        "  print(\"ERROR. No ha ingresado una moneda valida\")\n",
        "\"\"\"\n",
        "#utilizando While\n",
        "while True:\n",
        "  if \"$\"  in moneda or \"U$S\"  in moneda.upper():\n",
        "    print(\"Muchas Gracias. Continuamos\")\n",
        "    break\n",
        "  else:\n",
        "    print(\"ERROR. No ha ingresado una moneda valida\")\n",
        "    moneda=input(\"Por favor, Ingrese la monenda $ (Peso) o U$S (Dólar)\")\n",
        "\n",
        "#ingreso  monto mensual\n",
        "#uso un bucle para que se repita el ingreso 6 veces\n",
        "i=1\n",
        "ingreso_mensual=0\n",
        "ingreso_total=0\n",
        "for i in range(6):\n",
        "  ingreso_mensual=float(input(\"Ingrese el monto del mes \"))\n",
        "  #validar monto positivo\n",
        "  while ingreso_mensual < 0:\n",
        "    ingreso_mensual=float(input(\"Por favor, ingrese el monto mensual \"))\n",
        "  ingreso_total=ingreso_total + ingreso_mensual\n",
        "#muestro los datos ingresados\n",
        "# utilzo .strip() de quitar espacios al final y al principio\n",
        "# Utilizo .lower() para colocar en minusculas los caracteres ingresados\n",
        "# utilizo .title()para colocar en mayusculas las iniciales\n",
        "print(f\"Datos Introducidos\\n Nombre:\\t{nombre.lower().strip().title()}\\t Apellido:\\t {apellido.lower().strip().title()})\\n Edad:\\t{edad}\\n Rango Etario:\\t{rango_etario}\\n E-Mail:\\t{email.lower().strip()}\\n Ingreso Total Semestral:\\t {moneda}{ingreso_total}.-\")"
      ]
    }
  ]
}