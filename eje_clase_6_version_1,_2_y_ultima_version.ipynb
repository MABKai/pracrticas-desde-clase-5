{
  "nbformat": 4,
  "nbformat_minor": 0,
  "metadata": {
    "colab": {
      "provenance": []
    },
    "kernelspec": {
      "name": "python3",
      "display_name": "Python 3"
    },
    "language_info": {
      "name": "python"
    }
  },
  "cells": [
    {
      "cell_type": "code",
      "execution_count": 9,
      "metadata": {
        "colab": {
          "base_uri": "https://localhost:8080/"
        },
        "id": "W7Aaufe8LEG7",
        "outputId": "7abf8bfb-cd4c-4140-a4f0-8269afaf4cfb"
      },
      "outputs": [
        {
          "output_type": "stream",
          "name": "stdout",
          "text": [
            "Cliente 1: Laura\n",
            "Cliente 2: Martin\n",
            "Cliente 3 no valido \n",
            "Cliente 4: Susana\n",
            "Cliente 5 no valido \n"
          ]
        }
      ],
      "source": [
        "\n",
        "#ejercicio 1 clase 06\n",
        "#Usando bucles, lista, capitalize() etc como indica la consigna\n",
        "#creamos una lista llamada clientes\n",
        "clientes=[]\n",
        "clientes=[\"Laura\", \"Martin\",\" \",\"Susana\",\" \" ]\n",
        "\"\"\"\n",
        "recorremos la lista clientes con un bucle verificando que\n",
        "no este vacio el nombre, colocando la inicial en mayuscula\n",
        "el resto de las letras en minusculas\n",
        "y comrpbando que se hayan ingresado solo letras y no nuneros o caracteres es´peciales\n",
        "\"\"\"\n",
        "for i in range(len(clientes)):\n",
        " if clientes[i].capitalize().lower().strip().isalpha():\n",
        "  #imprimo el cliente el numero nombre o mensaje no valido si corresponde\n",
        "  print(f\"Cliente {i+1}: {clientes[i]}\")\n",
        " else:\n",
        "  print(f\"Cliente {i+1} no valido \")"
      ]
    },
    {
      "cell_type": "code",
      "source": [
        "\n",
        "#ejercicio 1 clase 06\n",
        "#Usando bucles, lista, capitalize() etc como indica la consigna\n",
        "#creamos una lista llamada clientes\n",
        "clientes=[]\n",
        "#ya que puede ingresarse un nombre compuesto o nombre y apellido y el anterior programa daba error en ese sentido\n",
        "#toma como vacia la cadena por el espacio entre los dos nombres\n",
        "clientes=[\"laura lopez\", \"Martin \",\" \",\"susAna Gomez\",\" \" ]\n",
        "\"\"\"\n",
        "recorremos la lista clientes con un bucle verificando que\n",
        "no este vacio el nombre, colocando la inicial en mayuscula\n",
        "el resto de las letras en minusculas\n",
        "y comrpbando que se hayan ingresado solo letras y no nuneros o caracteres es´peciales\n",
        "\"\"\"\n",
        "i=1\n",
        "division_nombre=0\n",
        "for cliente in clientes:\n",
        "  cliente=cliente.strip().lower()\n",
        "  division_nombre=cliente.split()\n",
        "  if len(division_nombre)<1:\n",
        "    print(f\"Cliente {i}: NO VALIDO\")\n",
        "  elif len(division_nombre)<2 and len(division_nombre)>0: #or not division_nombre[0] or not division_nombre[1]:\n",
        "    print(f\"Clientes {i}: {cliente.capitalize() } INCOMPLETO\")\n",
        "  else:\n",
        "     print(f\"Cliente {i}: {cliente.title()}\")\n",
        "  i=i+1\n",
        "\n"
      ],
      "metadata": {
        "colab": {
          "base_uri": "https://localhost:8080/"
        },
        "id": "l0g4dWApLHDx",
        "outputId": "6922158d-39b3-42ad-c978-49e7bd80e9f7"
      },
      "execution_count": 37,
      "outputs": [
        {
          "output_type": "stream",
          "name": "stdout",
          "text": [
            "Cliente 1: Laura /Lopez\n",
            "Clientes 2: Martin INCOMPLETO\n",
            "Cliente 3: NO VALIDO\n",
            "Cliente 4: Susana Gomez\n",
            "Cliente 5: NO VALIDO\n"
          ]
        }
      ]
    },
    {
      "cell_type": "code",
      "source": [
        "\n",
        "#ejercicio 1 clase 06\n",
        "#Usando bucles, lista, capitalize() etc como indica la consigna\n",
        "#creamos una lista llamada clientes\n",
        "clientes=[]\n",
        "clientes=[\"laura lopez\", \"Martin \",\" \",\"susAna Gomez\",\" \" , \"Vb5 Virginia\"]\n",
        "\"\"\"\n",
        "en el anterior ejercicio version 2 solucionamos que en la primera version\n",
        "no se podia ingresar un nombre compuesto o nombre y apellido\n",
        "ya  que en esa prmera version, daba error en ese sentido al\n",
        "tomar como vacia la cadena por el espacio entre los dos nombres\n",
        "En esta tercera version solucionaremos el tema de que haya  caracteres especiales\n",
        "o numeros ingresados dentro de los nombres\n",
        "recorremos la lista clientes con un bucle verificando que\n",
        "no este vacio el nombre, colocando la inicial en mayuscula\n",
        "el resto de las letras en minusculas\n",
        "y comrpbando que se hayan ingresado solo letras y no nuneros o caracteres es´peciales\n",
        "\"\"\"\n",
        "i=1\n",
        "division_nombre=0\n",
        "clientes_validos=[]\n",
        "clientes_nulos=0\n",
        "clientes_incompletos=[]\n",
        "clientes_erroresAlpha=[]\n",
        "for cliente in clientes:\n",
        "  cliente=cliente.strip().lower()\n",
        "  division_nombre=cliente.split()\n",
        "  if len(division_nombre)<1:\n",
        "    print(f\"Cliente {i}: NO VALIDO\")\n",
        "    clientes_nulos=clientes_nulos+1\n",
        "  else:\n",
        "    if len(division_nombre)<2 and len(division_nombre)>0: #or not division_nombre[0] or not division_nombre[1]:\n",
        "      print(f\"Clientes {i}: {cliente.capitalize() } INCOMPLETO\")\n",
        "      clientes_incompletos.append(cliente)\n",
        "    else:\n",
        "      nombre=division_nombre[0]\n",
        "      apellido=division_nombre[1]\n",
        "      if not nombre.isalpha():\n",
        "         print(f\"Cliente {i}: {cliente} ERROR Nombre {nombre} Contiene Caracteres No Alfabeticos\")\n",
        "         clientes_erroresAlpha.append(cliente)\n",
        "      else:\n",
        "         if not apellido.isalpha():\n",
        "          print(f\"Cliente {i}: {cliente} ERROR Apellido {apellido} Contiene Caracteres No Alfabeticos\")\n",
        "          clientes_erroresAlpha.append(cliente)\n",
        "         else:\n",
        "\n",
        "           print(f\"Cliente {i}: {cliente.title()}\")\n",
        "           clientes_validos.append(cliente)\n",
        "  i=i+1\n",
        "\n",
        "print(\"Clientes Correctamente ingresadps\", clientes_validos)\n",
        "print (\"Clientes Incorrectamente ingresados o Nulos:\", clientes_nulos)\n",
        "print (\"Clientes con Datos Incompletos\", clientes_incompletos)\n",
        "print(\"Clientes con Errores Alfabeticos\", clientes_erroresAlpha)\n"
      ],
      "metadata": {
        "colab": {
          "base_uri": "https://localhost:8080/"
        },
        "id": "cfhJDHYcbSa_",
        "outputId": "7aa99088-99a3-4bb7-9a41-369062246c8b"
      },
      "execution_count": 50,
      "outputs": [
        {
          "output_type": "stream",
          "name": "stdout",
          "text": [
            "Cliente 1: Laura Lopez\n",
            "Clientes 2: Martin INCOMPLETO\n",
            "Cliente 3: NO VALIDO\n",
            "Cliente 4: Susana Gomez\n",
            "Cliente 5: NO VALIDO\n",
            "Cliente 6: vb5 virginia ERROR Nombre vb5 Contiene Caracteres No Alfabeticos\n",
            "Clientes Correctamente ingresadps ['laura lopez', 'susana gomez']\n",
            "Clientes Incorrectamente ingresados o Nulos: 2\n",
            "Clientes con Datos Incompletos ['martin']\n",
            "Clientes con Errores Alfabeticos ['vb5 virginia']\n"
          ]
        }
      ]
    }
  ]
}