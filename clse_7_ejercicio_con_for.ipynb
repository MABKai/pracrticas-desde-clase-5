{
  "nbformat": 4,
  "nbformat_minor": 0,
  "metadata": {
    "colab": {
      "provenance": []
    },
    "kernelspec": {
      "name": "python3",
      "display_name": "Python 3"
    },
    "language_info": {
      "name": "python"
    }
  },
  "cells": [
    {
      "cell_type": "code",
      "execution_count": 1,
      "metadata": {
        "id": "Yv33WPEPte0a",
        "colab": {
          "base_uri": "https://localhost:8080/"
        },
        "outputId": "e14cd773-9d5c-4de8-b239-a6d9239518a4"
      },
      "outputs": [
        {
          "output_type": "stream",
          "name": "stdout",
          "text": [
            "Ingrese su nombre y apellido. Para finalizar, ingrese Fin \n",
            "Ingrese su nombre y apellido: \n",
            "Error.\n",
            "Ingrese su nombre y apellido: sas\n",
            "Error.\n",
            "Ingrese su nombre y apellido: sas454\n",
            "Error.\n",
            "Ingrese su nombre y apellido: sasa nmnm45\n",
            "ERROR. Apellido Contiene Caracteres No Alfabeticos.\n",
            "Ingrese su nombre y apellido: bcd nmn\n",
            "Ingrese su nombre y apellido: ace tuy\n",
            "Ingrese su nombre y apellido: mara ara\n",
            "Ingrese su nombre y apellido: fin\n",
            "[('Ara', 'Mara'), ('Nmn', 'Bcd'), ('Tuy', 'Ace')]\n",
            "[('Ara', 'Mara'), ('Nmn', 'Bcd'), ('Tuy', 'Ace')]\n"
          ]
        }
      ],
      "source": [
        "#    Ejercicio Clase 7 version con For\n",
        "# Aqui ademas de ingresar el nombre\n",
        "# Validar que no este vacio\n",
        "# Colocar en mayusculas los nombres\n",
        "# Asentar que con fin se de por terminado el ingreso\n",
        "# VALIDAR NO CARATERES NO ALFABETICOS INGRESADOS NI EN NOMBRE NI EN APEKLIDO\n",
        "# SEÑALA ERROR Y PIDE REINGRESO\n",
        "# ORDENAR ALFABETICAMENTE LOS DATOS INGRESADOS CON SORT\n",
        "# IMPRIMIR LISTA ORDENADA\n",
        "\n",
        "# INGRESAREMOS APELLIDO Y NOMBRE GUARDANDOLOS EN LISTA nombre_apellio por si necesita la lista ingresada\n",
        "# SOLICITAREMOS  se ingrese fin para terminar\n",
        "# Los ingresos los colocamos en minusculas, con la primera inicial en mayuscula de este modo el Fin, este como\n",
        "# Este escrito, conduce al fin del programna y arreoja sus resulatdos\n",
        "\n",
        "clientes=[] # LISTA CON CLIENTES INGRESADOS\n",
        "i=1\n",
        "division_nombre=[]\n",
        "nombre_apellido=[]\n",
        "nombre=\"\"\n",
        "apellido=\"\"\n",
        "# Ingreso de datos\n",
        "print(\"Ingrese su nombre y apellido. Para finalizar, ingrese Fin \")\n",
        "# Analisis de los datos\n",
        "while True: # Bucle para que se ingresen todos los clientes que necesiten y se finaliza con una termino a intorducir\n",
        "      nombre_apellido=input(\"Ingrese su nombre y apellido: \")\n",
        "      if nombre_apellido.capitalize()== \"Fin\": # Coloco la inicial en mayuscula y si es igual a Fin sea ingresado como sea, se acab el prpgrama\n",
        "          break\n",
        "      while True: # Bucle para analizar los datos ingresados hasta que esten correctos\n",
        "        nombre_apellido=nombre_apellido.strip().lower() # Quito espacios al principio y final, coloco cadena en minuscula\n",
        "        # A la cadena intriducida la separo para el analisis particular\n",
        "        division_nombre=nombre_apellido.split() # de lo contrario separo el apellido del nombre\n",
        "        # Determino con len, que el ingreso no haya sido nulo, que no falte ela apellido o nombre\n",
        "        if len(nombre_apellido) < 1 or len(division_nombre)<2:\n",
        "              nombre_apellido=print(\"Error.\") # El error corta el bucle enviandonos al inicio del bucle anterior solicitando el ingreso de datos\n",
        "              break\n",
        "        else:\n",
        "        #si esta correcto, separo en lista ingresada en nombre y apellido.\n",
        "            nombre=division_nombre[0] # El primer termino del ingreso ocupa el lugar 0 y se almacena en nombre\"\n",
        "            apellido=division_nombre[1] # El segundo termino, el que ocupa el segundo lugar, se toma como apellido y se aloja en apellido\n",
        "      ### EL PRXIMO TRATO DE HACERLO CON INGRESO DE NOMBRE COMPUESTOS Y APELLIDOS COMPUESTOS\n",
        "            if not nombre.isalpha(): # Valido que no haya caracteres no alfabeticos en nombre\n",
        "              nombre=print(\"ERROR. Nombre Contiene Caracteres No Alfabeticos\") #de haberlos, indico error\"\n",
        "              break # Termino el bucle para enviar al usario al 1er bucle para ingresar datos o dar fin\n",
        "            #  Si todo esta correcto valido que no haya carcatres no alfabeticos en apellido\n",
        "            # Igual que con nombre, de haber error, se informa y se enviaal principio, de lo contrario continua\n",
        "            else:\n",
        "               if not apellido.isalpha():\n",
        "                  apellido=print(\"ERROR. Apellido Contiene Caracteres No Alfabeticos.\")\n",
        "                  break\n",
        "            # Llegar aqui indica que todoe sta correcto, entonces\n",
        "               else:\n",
        "                  apellido_nombre=apellido.capitalize(), nombre.capitalize()# invierto el orden del nombre y apellido y lo pongo en mayuscula\n",
        "                  clientes.append(apellido_nombre) # Los agrego a la lista Clientes, se envia al inicio del otro bucle para ingreso/fin\n",
        "                  break\n",
        "\n",
        "# Una vez concluido los ingresos con la palabra fin, de imprime la lista clientes ordenados alfabticamnte por apellido\n",
        "#usamos un bucle For para ello\n",
        "\n",
        "for i in range(len(clientes)):\n",
        "    for j in range(i+1, len(clientes)):\n",
        "        if clientes[i] > clientes[j]:\n",
        "            clientes[i], clientes[j] = clientes[j], clientes[i]\n",
        "print(clientes)"
      ]
    }
  ]
}