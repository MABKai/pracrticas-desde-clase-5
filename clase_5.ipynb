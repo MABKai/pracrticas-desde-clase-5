{
  "nbformat": 4,
  "nbformat_minor": 0,
  "metadata": {
    "colab": {
      "provenance": []
    },
    "kernelspec": {
      "name": "python3",
      "display_name": "Python 3"
    },
    "language_info": {
      "name": "python"
    }
  },
  "cells": [
    {
      "cell_type": "code",
      "execution_count": 17,
      "metadata": {
        "colab": {
          "base_uri": "https://localhost:8080/"
        },
        "id": "P0bCPo6dBVWb",
        "outputId": "a2066399-2254-42bb-dda0-bfb194226d88"
      },
      "outputs": [
        {
          "output_type": "stream",
          "name": "stdout",
          "text": [
            "Ingrese el monto del mes 678678687678\n",
            "Ingrese el monto del mes -565\n",
            "Por favor, ingrese el monto mensual .6757\n",
            "Ingrese el monto del mes 76868\n",
            "Ingrese el monto del mes 6786867\n",
            "Ingrese el monto del mes 678687\n",
            "Ingrese el monto del mes 7879\n",
            "El ingreso total del semestre es de 678686237979.6757.-\n"
          ]
        }
      ],
      "source": [
        "#Registros financieros semestral\n",
        "#ingreso  monto mensual\n",
        "#uso un bucle para que se repita el ingreso 6 veces\n",
        "i=1\n",
        "ingreso_mensual=0\n",
        "ingreso_total=0\n",
        "for i in range(6):\n",
        "  ingreso_mensual=float(input(\"Ingrese el monto del mes \"))\n",
        "  #validar monto positivo\n",
        "  while ingreso_mensual < 0:\n",
        "    ingreso_mensual=float(input(\"Por favor, ingrese el monto mensual \"))\n",
        "  ingreso_total=ingreso_total + ingreso_mensual\n",
        "\n",
        "print(f\"El ingreso total del semestre es de {ingreso_total}.-\")"
      ]
    },
    {
      "cell_type": "code",
      "source": [
        "#Registros financieros semestral\n",
        "\n",
        "\n",
        "nombre=input(\"Hola, te solicitaré tus datos, empezamos \\nIntroduce tu nombre \")\n",
        "if len(nombre)==0: #valido el ingreso de caracteres\n",
        "  print(\"ERROR. No ha ingresado su nombre.\")\n",
        "apellido=input(\"Ahora introduce tu apellido \")# ingreso y guardo  caracteres\n",
        "if len(apellido)==0: #valido esta vex el ingreso de caracteres en apellido\n",
        "  print(\"ERROR. No ha ingrsaso su apellido\")\n",
        "#Validacion y clasificsscion de la edad\n",
        "edad=input(\"Cual es tu edad? \")\n",
        "if int(edad )<=0: #compruebo una edad valida\n",
        "    edad=input(\"ERROR. No ha ingresado una edad valida.\")\n",
        "elif int(edad) > 18:\n",
        "    rango_etario= \"Adulto\"\n",
        "elif int(edad)<15:\n",
        "    rango_etario= \"Niño/a\"\n",
        "elif int(edad)>15 and int(edad) <18:\n",
        "    rango_etario= \"Adolescente\"\n",
        "#Validacion de Email\n",
        "email=input(\"Y finalmente, tu correo electronico \")\n",
        "if len(email)==0 or email.find(\"@\")==\"\":#valido que se haya ingresado caracteres en email\n",
        "   print(\"ERROR.No ha ingresado un e-mail valido\")\n",
        "print(\"Gracias!\", end='\\n')\n",
        "#ingreso  monto mensual\n",
        "#uso un bucle para que se repita el ingreso 6 veces\n",
        "i=1\n",
        "ingreso_mensual=0\n",
        "ingreso_total=0\n",
        "for i in range(6):\n",
        "  ingreso_mensual=float(input(\"Ingrese el monto del mes \"))\n",
        "  #validar monto positivo\n",
        "  while ingreso_mensual < 0:\n",
        "    ingreso_mensual=float(input(\"Por favor, ingrese el monto mensual \"))\n",
        "  ingreso_total=ingreso_total + ingreso_mensual\n",
        "#muestro los datos ingresados\n",
        "# utilzo .strip() de quitar espacios al final y al principio\n",
        "# Utilizo .lower() para colocar en minusculas los caracteres ingresados\n",
        "# utilizo .title()para colocar en mayusculas las iniciales\n",
        "print(f\"Datos Introducidos\\n Nombre:\\t{nombre.lower().strip().title()}\\t Apellido:\\t {apellido.lower().strip().title()})\\n Edad:\\t{edad.strip()}\\n Rango Etario:\\t{rango_etario}\\n E-Mail:\\t{email.lower().strip()}\\n Ingreso Total Semestral:\\t {ingreso_total}.-\")\n",
        "\n",
        "\n"
      ],
      "metadata": {
        "colab": {
          "base_uri": "https://localhost:8080/"
        },
        "id": "QBZuNe74Ttlt",
        "outputId": "0f003f98-4ff2-4100-9ec1-3b73ec5ee059"
      },
      "execution_count": 23,
      "outputs": [
        {
          "output_type": "stream",
          "name": "stdout",
          "text": [
            "Hola, te solicitaré tus datos, empezamos \n",
            "Introduce tu nombre nmm\n",
            "Ahora introduce tu apellido nmn\n",
            "Cual es tu edad? 2\n",
            "Y finalmente, tu correo electronico @\n",
            "Gracias!\n",
            "Ingrese el monto del mes 22\n",
            "Ingrese el monto del mes 22\n",
            "Ingrese el monto del mes 22\n",
            "Ingrese el monto del mes 22\n",
            "Ingrese el monto del mes 22\n",
            "Ingrese el monto del mes 22\n",
            "Datos Introducidos\n",
            " Nombre:\tNmm\t Apellido:\t Nmn)\n",
            " Edad:\t2\n",
            " Rango Etario:\tNiño/a\n",
            " E-Mail:\t@\n",
            " Ingreso Total Semestral:\t 132.0.-\n"
          ]
        }
      ]
    }
  ]
}