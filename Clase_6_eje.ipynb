{
  "nbformat": 4,
  "nbformat_minor": 0,
  "metadata": {
    "colab": {
      "provenance": []
    },
    "kernelspec": {
      "name": "python3",
      "display_name": "Python 3"
    },
    "language_info": {
      "name": "python"
    }
  },
  "cells": [
    {
      "cell_type": "code",
      "execution_count": null,
      "metadata": {
        "id": "N4ca5QeLHnj_"
      },
      "outputs": [],
      "source": [
        "\n",
        "#ejercicio 1 clase 06\n",
        "#Usando bucles, lista, capitalize() etc como indica la consigna\n",
        "#creamos una lista llamada clientes\n",
        "clientes=[]\n",
        "clientes=[\"Laura\", \"Martin\",\" \",\"Susana\",\" \" ]\n",
        "\"\"\"\n",
        "recorremos la lista clientes con un bucle verificando que\n",
        "no este vacio el nombre, colocando la inicial en mayuscula\n",
        "el resto de las letras en minusculas\n",
        "y comrpbando que se hayan ingresado solo letras y no nuneros o caracteres es´peciales\n",
        "\"\"\"\n",
        "for i in range(len(clientes)):\n",
        " if clientes[i].capitalize().lower().strip().isalpha():\n",
        "  #imprimo el cliente el numero nombre o mensaje no valido si corresponde\n",
        "  print(f\"Cliente {i+1}: {clientes[i]}\")\n",
        " else:\n",
        "  print(f\"Cliente {i+1} no valido \")"
      ]
    }
  ]
}