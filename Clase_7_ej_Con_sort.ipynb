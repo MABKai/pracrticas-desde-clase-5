{
  "nbformat": 4,
  "nbformat_minor": 0,
  "metadata": {
    "colab": {
      "provenance": []
    },
    "kernelspec": {
      "name": "python3",
      "display_name": "Python 3"
    },
    "language_info": {
      "name": "python"
    }
  },
  "cells": [
    {
      "cell_type": "code",
      "execution_count": null,
      "metadata": {
        "id": "vEdBC6LUEIsJ"
      },
      "outputs": [],
      "source": [
        "#Ejercicio Clase 7 1era version con sort\n",
        "\n",
        "clientes=[]\n",
        "\n",
        "#Ingreso de datos\n",
        "print(\"Ingrese su nombre. Para finalizar, ingrese Fin\")\n",
        "#uso un bucle para validar los nombres que se ingresaran\n",
        "while True:\n",
        "      nombre=input(\"Ingrese su nombre: \")\n",
        "      if nombre.lower().capitalize()== \"Fin\": #instruccion para terminar de ingresar datos\n",
        "          break\n",
        "      if len(nombre) <= 0: #valido que nombre bno este vacio\n",
        "              nombre=input(\"Por favor ingrese su nombre: \")\n",
        "      clientes.append(nombre.capitalize()) #si no esta vacio, se agrega a la lista poniendolo en mayuscula\n",
        "clientes.sort() #ordeno la lista alfabeticamente\n",
        "print(clientes) #imprimo la lista ordenada alfabeticamente\n"
      ]
    },
    {
      "cell_type": "code",
      "source": [
        "#Ejercicio Clase 7 2da version con sort\n",
        "# aqui ademas de ingresar el nombre\n",
        "#validar que no este vacio\n",
        "#Colocar en mayusculas los nombres\n",
        "#asentar que con fin se de por terminado el ingreso\n",
        "#VALIDO QUE SEAN CARATERES ALFABETICOS LOS QUE ESTEN INGRESADOS\n",
        "# SE INGRESAN OTROS CARACTERES SEÑALA ERROR Y PIDE QUE SE INGRESE NUEVAMENTE\n",
        "clientes=[]\n",
        "\n",
        "#Ingreso de datos\n",
        "print(\"Ingrese su nombre. Para finalizar, ingrese Fin \")\n",
        "\n",
        "while True:\n",
        "      nombre=input(\"Ingrese su nombre: \")\n",
        "      if nombre.lower().capitalize()== \"Fin\":\n",
        "          break\n",
        "      elif len(nombre) <= 0 or not nombre.isalpha():\n",
        "              nombre=input(\"Error.Por favor ingrese su nombre: \")\n",
        "      else:\n",
        "        clientes.append(nombre.capitalize())\n",
        "clientes.sort()\n",
        "print(clientes)\n"
      ],
      "metadata": {
        "id": "ZGC-hy3gES-S"
      },
      "execution_count": null,
      "outputs": []
    },
    {
      "cell_type": "code",
      "source": [
        "#Ejercicio Clase 7 3era version con sort\n",
        "# aqui ademas de ingresar el nombre\n",
        "#validar que no este vacio\n",
        "#Colocar en mayusculas los nombres\n",
        "#asentar que con fin se de por terminado el ingreso\n",
        "#VALIDAR S CARATERES ALFABETICOS LOS INGRESADOS\n",
        "# SDE LO CONTRARIO SEÑALA ERROR Y PIDE QUE SE INGRESE NUEVAMENTE\n",
        "#ORDENAR ALFABETICAMENTE\n",
        "#IMPRIMIR LISTA ORDENADA\n",
        "#INGRESAREMOS APELLIDO Y NOMBRE\n",
        "#SOLICITAREMOS QUE SE INGRESEN AMBOS DATOS\n",
        "#ORDENAREMOS LA LISTA POR APELLIDO\n",
        "clientes=[]\n",
        "i=1\n",
        "division_nombre=0\n",
        "#Ingreso de datos\n",
        "print(\"Ingrese su nombre y apellido. Para finalizar, ingrese Fin \")\n",
        "\n",
        "while True:\n",
        "      nombre_apellido=input(\"Ingrese su nombre y apellido: \")\n",
        "      nombre_apellido=nombre_apellido.strip().lower()\n",
        "      division_nombre=nombre_apellido.split()\n",
        "      if nombre_apellido.lower().capitalize()== \"Fin\":\n",
        "          break\n",
        "      elif len(nombre_apellido) <= 0 or len(division_nombre)<1 or len(division_nombre)<2 and len(division_nombre)>0:\n",
        "              nombre_apellido=input(\"Error.Por favor ingrese su nombre y apellido: \")\n",
        "      else:\n",
        "       nombre=division_nombre[0]\n",
        "       apellido=division_nombre[1]\n",
        "       if not nombre.isalpha():\n",
        "         nombre=input(\"ERROR. Contiene Caracteres No Alfabeticos. Por favor, ingrese su nombre: \")\n",
        "       else:\n",
        "         if not apellido.isalpha():\n",
        "           apellido=input(\"ERROR. Contiene Caracteres No Alfabeticos. Por favor, ingrese su apellido: \")\n",
        "         else:\n",
        "          #clientes.append(nombre_apellido.title()) #guardo en la lista el nombre y apellido en mayiuscula.\n",
        "          apellido_nombre=apellido.capitalize(), nombre.capitalize()# invierto el orden del nombre y apellido y lo pongo en mayuscula\n",
        "          clientes.append(apellido_nombre)\n",
        "clientes.sort()\n",
        "print(clientes)"
      ],
      "metadata": {
        "id": "uYo1g5DrEW_V"
      },
      "execution_count": null,
      "outputs": []
    }
  ]
}